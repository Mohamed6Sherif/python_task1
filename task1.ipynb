{
 "cells": [
  {
   "cell_type": "markdown",
   "id": "8dd747ca",
   "metadata": {},
   "source": [
    "# Task 1 : Temperature Converter\n",
    "\n",
    "### Description\n",
    "\n",
    "Create a program that converts temperatures between Celsius and Fahrenheit. The program\n",
    "should:\n",
    "1. Welcome the user with a greeting message.\n",
    "2. Ask the user which conversion they want to perform: Celsius to Fahrenheit or Fahrenheit\n",
    "to Celsius.\n",
    "3. Get the temperature value from the user.\n",
    "4. Use if conditions to perform the appropriate conversion:\n",
    "o If converting from Celsius to Fahrenheit, use the formula: F = C×9\n",
    "5\n",
    "+32\n",
    "o If converting from Fahrenheit to Celsius, use the formula: C = (F−32) ×5\n",
    "9\n",
    "5. Display the converted temperature to the user.\n",
    "6. After showing the result, ask if the user wants to perform another conversion. If they say\n",
    "\"yes,\" repeat the process. Otherwise, end the program with a \"Thank you!\" message.\n"
   ]
  },
  {
   "cell_type": "code",
   "execution_count": null,
   "id": "b47ab7ae",
   "metadata": {},
   "outputs": [],
   "source": [
    "print(\"Welcome To Our Tempreture Task\")\n",
    "\n",
    "repeat = True\n",
    "while repeat:\n",
    "    print(\"Please Choose One Of The Following Options:\")\n",
    "print(\"1. Celsius To Fahrenheit\")\n",
    "print(\"2. Fahrenheit To Celsius\")\n",
    "option = int(input(\"Enter your option (1 or 2):\"))\n",
    "if option == 1:\n",
    "    c = float(input(\"Enter temperature in Celsius: \"))\n",
    "    f = (c * 9/5) + 32\n",
    "    print(f\"{c}°C is equal to {f}°F\")\n",
    "elif option == 2:\n",
    "    f = float(input(\"Enter temperature in Fahrenheit: \"))\n",
    "    c = (f - 32) * 5/9\n",
    "    print(f\"{f}°F is equal to {c}°C\")\n"
   ]
  }
 ],
 "metadata": {
  "language_info": {
   "name": "python"
  }
 },
 "nbformat": 4,
 "nbformat_minor": 5
}
